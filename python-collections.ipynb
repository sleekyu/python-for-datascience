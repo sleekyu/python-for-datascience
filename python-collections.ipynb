{
  "nbformat": 4,
  "nbformat_minor": 0,
  "metadata": {
    "colab": {
      "provenance": []
    },
    "kernelspec": {
      "name": "python3",
      "display_name": "Python 3"
    },
    "language_info": {
      "name": "python"
    }
  },
  "cells": [
    {
      "cell_type": "code",
      "execution_count": 12,
      "metadata": {
        "colab": {
          "base_uri": "https://localhost:8080/"
        },
        "id": "7hmBrnUrYli2",
        "outputId": "63947f89-d231-46f4-f6a3-63b1bf037829"
      },
      "outputs": [
        {
          "output_type": "stream",
          "name": "stdout",
          "text": [
            "Uche Tuple:  (2, 8, 5, 3) \n",
            "\n",
            "<class 'list'>\n",
            "[2, 8, 5, 3]\n",
            "[2, 5, 3]\n",
            "\n",
            "New Uche Tuple:  (2, 5, 3)\n"
          ]
        }
      ],
      "source": [
        "# Program to remove an item from a tuple\n",
        "uche_tuple = (2, 8, 5, 3)\n",
        "print(\"Uche Tuple: \", uche_tuple, \"\\n\")\n",
        "# Tuples are immutable\n",
        "# Convert tuple to list\n",
        "uche_tuple_list = list(uche_tuple)\n",
        "print(type(uche_tuple_list))\n",
        "print(uche_tuple_list)\n",
        "\n",
        "# Remove item from list\n",
        "uche_tuple_list.remove(8)\n",
        "print(uche_tuple_list)\n",
        "\n",
        "# Create new tuple without the removed item\n",
        "# Convert list to tuple\n",
        "new_uche_tuple = tuple(uche_tuple_list)\n",
        "print(\"\\nNew Uche Tuple: \", new_uche_tuple)\n"
      ]
    },
    {
      "cell_type": "code",
      "source": [
        "# Program to compute element-wise\n",
        "# Sum of three given tuples\n",
        "\n",
        "uche_tuple_1 = 5, 6, 8, 4\n",
        "uche_tuple_2 = 3, 4, 1, 7\n",
        "uche_tuple_3 = 9, 2, 0, 1\n",
        "\n",
        "sum_uche_tuple = tuple(map(sum, zip(uche_tuple_1, uche_tuple_2, uche_tuple_3)))\n",
        "\n",
        "print(\"Element-wise sum of the three given tuples: \", sum_uche_tuple)\n"
      ],
      "metadata": {
        "colab": {
          "base_uri": "https://localhost:8080/"
        },
        "id": "1SPWk-9Xb-ng",
        "outputId": "987ef441-265f-4ef5-f7d7-7503801ea8fc"
      },
      "execution_count": 1,
      "outputs": [
        {
          "output_type": "stream",
          "name": "stdout",
          "text": [
            "Element-wise sum of the three given tuples:  (17, 12, 9, 12)\n"
          ]
        }
      ]
    },
    {
      "cell_type": "code",
      "source": [
        "def dict_invert(course_scores):\n",
        "    \"\"\"Function to invert a given dict with non-hashable values\n",
        "    So that unique values become keys\n",
        "    Keys become values\n",
        "    Create dictionary\"\"\"\n",
        "\n",
        "    new_course_scores = {}\n",
        "    for k, v in course_scores.items():\n",
        "        new_course_scores.setdefault(v, []).append(k)\n",
        "    return new_course_scores\n",
        "\n",
        "course_scores = {\n",
        "     93: \"Computer Science\", 96: \"Algebra\", 90: \"Statistics\", 98: \"Trigonometry\",\n",
        "     88: \"Computer Science\", 85: \"Algebra\", 75: \"Statistics\", 95: \"Trigonometry\",\n",
        "     78: \"Computer Science\", 79: \"Algebra\", 80: \"Statistics\", 90: \"Trigonometry\",\n",
        "     84: \"Computer Science\", 87: \"Algebra\", 75: \"Statistics\", 92: \"Trigonometry\"\n",
        " }       \n",
        "\n",
        "\n"
      ],
      "metadata": {
        "id": "fd_Fdx1cxt5H"
      },
      "execution_count": 13,
      "outputs": []
    },
    {
      "cell_type": "code",
      "source": [
        "print(\"Find the inverted ductionary with non-hashable values below: \\n  \")\n",
        "print(\"new_course_scores = \", dict_invert(course_scores))"
      ],
      "metadata": {
        "colab": {
          "base_uri": "https://localhost:8080/"
        },
        "id": "8l6jbCtLTTem",
        "outputId": "764ef02f-fa9c-46d4-e5bf-eaf60bfb70c8"
      },
      "execution_count": 14,
      "outputs": [
        {
          "output_type": "stream",
          "name": "stdout",
          "text": [
            "Find the inverted ductionary with non-hashable values below: \n",
            "  \n",
            "new_course_scores =  {'Computer Science': [93, 88, 78, 84], 'Algebra': [96, 85, 79, 87], 'Trigonometry': [90, 98, 95, 92], 'Statistics': [75, 80]}\n"
          ]
        }
      ]
    },
    {
      "cell_type": "code",
      "source": [
        "# Import Counter from collections\n",
        "from collections import Counter\n",
        "\n",
        "def uche_countfreq(grades):\n",
        "    #This function counts and displays the frequency of values in any given dictionary. \n",
        "\n",
        "        count_grades = Counter(grades.values())\n",
        "        return count_grades\n",
        "\n",
        "grades = {\n",
        "    \"Intro to Data Science\": \"A\",\n",
        "    \"Python Basics 1\": \"A\",\n",
        "    \"Python Basics 2\": \"B\",\n",
        "    \"Control Structures & Collections 1\": \"B\",\n",
        "    \"Control Structures & Collections 2\": \"A\",\n",
        "    \"Python Collections 1\": \"A\",\n",
        "    \"Python Collections 2\": \"A\",\n",
        "    \"Functions\": \"A\",\n",
        "    \"Functions & Random Numbers\": \"B\"\n",
        "}        \n",
        "\n"
      ],
      "metadata": {
        "id": "AEwOt7fCymPm"
      },
      "execution_count": 10,
      "outputs": []
    },
    {
      "cell_type": "code",
      "source": [
        "print(\"Display the frequency of values in grades:\")\n",
        "uche_countfreq(grades)"
      ],
      "metadata": {
        "colab": {
          "base_uri": "https://localhost:8080/"
        },
        "id": "LJxyTD_PZLzT",
        "outputId": "b920a5ef-5ed9-48a9-c260-0327c8ddaf44"
      },
      "execution_count": 11,
      "outputs": [
        {
          "output_type": "stream",
          "name": "stdout",
          "text": [
            "Display the frequency of values in grades:\n"
          ]
        },
        {
          "output_type": "execute_result",
          "data": {
            "text/plain": [
              "Counter({'A': 6, 'B': 3})"
            ]
          },
          "metadata": {},
          "execution_count": 11
        }
      ]
    },
    {
      "cell_type": "code",
      "source": [],
      "metadata": {
        "id": "B0t0Mgg6ZSsZ"
      },
      "execution_count": null,
      "outputs": []
    }
  ]
}
