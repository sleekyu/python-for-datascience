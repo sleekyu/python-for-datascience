{
 "cells": [
  {
   "cell_type": "code",
   "execution_count": 4,
   "metadata": {
    "colab": {
     "base_uri": "https://localhost:8080/"
    },
    "id": "HKWJyhldlOlW",
    "outputId": "6aac0d49-100b-4ddb-c5c5-0e04a6b8fd9e"
   },
   "outputs": [
    {
     "name": "stdout",
     "output_type": "stream",
     "text": [
      "Enter a charater: 7\n",
      "7   7\n",
      " 7 7 \n",
      "  7  \n",
      " 7 7 \n",
      "7   7\n"
     ]
    }
   ],
   "source": [
    "char = input(\"Enter a charater: \")\n",
    "\n",
    "i=0\n",
    "j=4\n",
    "for row in range(5):\n",
    "    for col in range(5):\n",
    "        if row ==i and col ==j:\n",
    "            print(char, end=\"\")\n",
    "            i=i+1\n",
    "            j=j-1\n",
    "        elif row == col:\n",
    "            print(char, end=\"\")\n",
    "        else:\n",
    "            print(end=\" \")\n",
    "    print()"
   ]
  },
  {
   "cell_type": "code",
   "execution_count": 6,
   "metadata": {
    "colab": {
     "base_uri": "https://localhost:8080/"
    },
    "id": "6PC7pQkZotcD",
    "outputId": "2d0f4667-f60d-41ff-bf71-1a4b903f0494"
   },
   "outputs": [
    {
     "name": "stdout",
     "output_type": "stream",
     "text": [
      "   * \n",
      "  * * \n",
      " * * * \n",
      "* * * * \n",
      "*******\n",
      "*     *\n",
      "*     *\n",
      "*     *\n",
      "*     *\n",
      "*     *\n",
      "*******\n",
      "*     *\n",
      "*     *\n",
      "*     *\n",
      "*     *\n",
      "*     *\n",
      "*******\n",
      "*     *\n",
      "*     *\n",
      "*     *\n",
      "*     *\n",
      "*     *\n",
      "*******\n"
     ]
    }
   ],
   "source": [
    "a = 4\n",
    "for i in range(1, a+1):\n",
    "            print(' '*(a - i) + '* ' * i)\n",
    "for row in range(19):\n",
    "            for col in range(7):\n",
    "                if (col ==0 or col==6) or (row ==0 or row==6 or row==12 or row==18) and (col>0 and col < 6):\n",
    "                    print('*', end='')\n",
    "                else:\n",
    "                    print(end=\" \")\n",
    "            print()\n",
    "\n"
   ]
  },
  {
   "cell_type": "code",
   "execution_count": null,
   "metadata": {
    "collapsed": true,
    "id": "h7q7GS7_19fB"
   },
   "outputs": [],
   "source": []
  }
 ],
 "metadata": {
  "colab": {
   "provenance": []
  },
  "kernelspec": {
   "display_name": "Python 3",
   "language": "python",
   "name": "python3"
  },
  "language_info": {
   "codemirror_mode": {
    "name": "ipython",
    "version": 3
   },
   "file_extension": ".py",
   "mimetype": "text/x-python",
   "name": "python",
   "nbconvert_exporter": "python",
   "pygments_lexer": "ipython3",
   "version": "3.6.1"
  }
 },
 "nbformat": 4,
 "nbformat_minor": 1
}
