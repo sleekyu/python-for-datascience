{
  "nbformat": 4,
  "nbformat_minor": 0,
  "metadata": {
    "colab": {
      "provenance": []
    },
    "kernelspec": {
      "name": "python3",
      "display_name": "Python 3"
    },
    "language_info": {
      "name": "python"
    }
  },
  "cells": [
    {
      "cell_type": "code",
      "execution_count": 20,
      "metadata": {
        "colab": {
          "base_uri": "https://localhost:8080/"
        },
        "id": "UGaWH8guo6lz",
        "outputId": "f56d60d6-80cb-483f-c946-762b5b28ffcb"
      },
      "outputs": [
        {
          "output_type": "stream",
          "name": "stdout",
          "text": [
            "Please enter a digit: 1988\n",
            "Sum of digits = 26\n"
          ]
        }
      ],
      "source": [
        "# A Python program to calculate sum of digits of any num input by the user\n",
        "dig = input(\"Please enter a digit: \")\n",
        "sum_digits = 0\n",
        "for digit in dig:\n",
        "    sum_digits += int(digit)\n",
        "    \n",
        "print(\"Sum of digits =\", sum_digits)"
      ]
    },
    {
      "cell_type": "code",
      "source": [
        "# A Python program to filter the positive numbers from a list, leaving only non-positive numbers\n",
        "uche_list = [88, -34, 19, -25, 62, -59, 22, -40]\n",
        "print(\"Uche's list:\", uche_list)\n",
        "for num in uche_list:\n",
        "    if num > 0:\n",
        "       uche_list.remove(num)\n",
        "\n",
        "print(\"Non-positive numbers in Uche's list:\")\n",
        "print(uche_list)"
      ],
      "metadata": {
        "colab": {
          "base_uri": "https://localhost:8080/"
        },
        "id": "DLx54FV6rLgo",
        "outputId": "763e775e-ea96-4f00-904f-f7fd7358e77c"
      },
      "execution_count": 11,
      "outputs": [
        {
          "output_type": "stream",
          "name": "stdout",
          "text": [
            "Uche's list: [88, -34, 19, -25, 62, -59, 22, -40]\n",
            "Non-positive numbers in Uche's list:\n",
            "[-34, -25, -59, -40]\n"
          ]
        }
      ]
    },
    {
      "cell_type": "code",
      "source": [
        "# A Python program to remove every third number from a list of numbers until the list is empty\n",
        "uche_list = [1, 2, 3, 4, 5, 6, 7, 8, 9, 10]\n",
        "\n",
        "# list index starts at 0 \n",
        "# p is for position\n",
        "p = 3 - 1\n",
        "index = 0\n",
        "len_list = (len(uche_list))\n",
        "while len_list > 0:\n",
        "          index = (p + index) % len_list\n",
        "          print(uche_list.pop(index))\n",
        "          len_list -= 1 \n"
      ],
      "metadata": {
        "id": "92ONSWcOurre",
        "colab": {
          "base_uri": "https://localhost:8080/"
        },
        "outputId": "f1b150a5-515b-4040-878f-27609fcbc80b"
      },
      "execution_count": 27,
      "outputs": [
        {
          "output_type": "stream",
          "name": "stdout",
          "text": [
            "3\n",
            "6\n",
            "9\n",
            "2\n",
            "7\n",
            "1\n",
            "8\n",
            "5\n",
            "10\n",
            "4\n"
          ]
        }
      ]
    },
    {
      "cell_type": "code",
      "source": [
        "# A Python program to check whether the sum of any two numbers in a list == k or !=k\n",
        "uche_list = [2, 5, 13, 8]\n",
        "k = 10\n",
        "\n",
        "def check_sum(uche_list, k):\n",
        "    i = 0\n",
        "    j = len(uche_list) - 1\n",
        "    while i < j:\n",
        "          check_sum = uche_list[i] + uche_list[j]\n",
        "          if check_sum == k:\n",
        "              return True\n",
        "          elif check_sum < k:\n",
        "              i += 1\n",
        "          else:\n",
        "              j -= 1\n",
        "              return False\n",
        "\n",
        "print(check_sum(uche_list, k))\n"
      ],
      "metadata": {
        "id": "zcZc4fdeIcEb",
        "colab": {
          "base_uri": "https://localhost:8080/"
        },
        "outputId": "f57df8cc-d5bb-4df6-931a-258f879cc005"
      },
      "execution_count": 40,
      "outputs": [
        {
          "output_type": "stream",
          "name": "stdout",
          "text": [
            "True\n"
          ]
        }
      ]
    },
    {
      "cell_type": "code",
      "source": [
        "# A Python program that receives a potentially long text input\n",
        "\n",
        "potent_long_text = '''After being cheated by her scumbag husband, Kimberley\n",
        "experienced a horrible night with a stranger.\n",
        "Then she was forced to get married under her sister's name to save her family.\n",
        "Her second husband was rich and powerful Maddox Yardley, who was trapped in \n",
        "the wheelchair by his broken legs.\n",
        "They made a deal to be a fake couple, but they were attracted to each other \n",
        "gradually.\n",
        "Until Kimberley's pregnancy changed everything.\n",
        "She got the baby on that night which was stamped indelibly on her memory. It \n",
        "was that stranger's baby. None knew who he was, and an abortion might kill \n",
        "Kimberley.\n",
        "What would Kimberly do? Would she risk her life for the child of a stranger?\n",
        "Or leave the husband she loved?'''\n",
        "\n",
        "# Converts string to list\n",
        "string_list = potent_long_text.split()\n",
        "\n",
        "# Print all words and their frequencies\n",
        "word_freq = [string_list.count(n) for n in string_list]\n",
        "\n",
        "print(\"String: \\n {} \\n\".format(potent_long_text))\n",
        "print(\"List: \\n {} \\n\".format(string_list))\n",
        "print(\"Words and Frequencies: \\n {}\".format(str(list(zip(string_list, word_freq)))))\n",
        "\n"
      ],
      "metadata": {
        "id": "hAQc2T0XJWRY",
        "colab": {
          "base_uri": "https://localhost:8080/"
        },
        "outputId": "a7ea2ff0-ebf5-419d-cc5f-3bd8189b8914"
      },
      "execution_count": 41,
      "outputs": [
        {
          "output_type": "stream",
          "name": "stdout",
          "text": [
            "String: \n",
            " After being cheated by her scumbag husband, Kimberley\n",
            "experienced a horrible night with a stranger.\n",
            "Then she was forced to get married under her sister's name to save her family.\n",
            "Her second husband was rich and powerful Maddox Yardley, who was trapped in \n",
            "the wheelchair by his broken legs.\n",
            "They made a deal to be a fake couple, but they were attracted to each other \n",
            "gradually.\n",
            "Until Kimberley's pregnancy changed everything.\n",
            "She got the baby on that night which was stamped indelibly on her memory. It \n",
            "was that stranger's baby. None knew who he was, and an abortion might kill \n",
            "Kimberley.\n",
            "What would Kimberly do? Would she risk her life for the child of a stranger?\n",
            "Or leave the husband she loved? \n",
            "\n",
            "List: \n",
            " ['After', 'being', 'cheated', 'by', 'her', 'scumbag', 'husband,', 'Kimberley', 'experienced', 'a', 'horrible', 'night', 'with', 'a', 'stranger.', 'Then', 'she', 'was', 'forced', 'to', 'get', 'married', 'under', 'her', \"sister's\", 'name', 'to', 'save', 'her', 'family.', 'Her', 'second', 'husband', 'was', 'rich', 'and', 'powerful', 'Maddox', 'Yardley,', 'who', 'was', 'trapped', 'in', 'the', 'wheelchair', 'by', 'his', 'broken', 'legs.', 'They', 'made', 'a', 'deal', 'to', 'be', 'a', 'fake', 'couple,', 'but', 'they', 'were', 'attracted', 'to', 'each', 'other', 'gradually.', 'Until', \"Kimberley's\", 'pregnancy', 'changed', 'everything.', 'She', 'got', 'the', 'baby', 'on', 'that', 'night', 'which', 'was', 'stamped', 'indelibly', 'on', 'her', 'memory.', 'It', 'was', 'that', \"stranger's\", 'baby.', 'None', 'knew', 'who', 'he', 'was,', 'and', 'an', 'abortion', 'might', 'kill', 'Kimberley.', 'What', 'would', 'Kimberly', 'do?', 'Would', 'she', 'risk', 'her', 'life', 'for', 'the', 'child', 'of', 'a', 'stranger?', 'Or', 'leave', 'the', 'husband', 'she', 'loved?'] \n",
            "\n",
            "Words and Frequencies: \n",
            " [('After', 1), ('being', 1), ('cheated', 1), ('by', 2), ('her', 5), ('scumbag', 1), ('husband,', 1), ('Kimberley', 1), ('experienced', 1), ('a', 5), ('horrible', 1), ('night', 2), ('with', 1), ('a', 5), ('stranger.', 1), ('Then', 1), ('she', 3), ('was', 5), ('forced', 1), ('to', 4), ('get', 1), ('married', 1), ('under', 1), ('her', 5), (\"sister's\", 1), ('name', 1), ('to', 4), ('save', 1), ('her', 5), ('family.', 1), ('Her', 1), ('second', 1), ('husband', 2), ('was', 5), ('rich', 1), ('and', 2), ('powerful', 1), ('Maddox', 1), ('Yardley,', 1), ('who', 2), ('was', 5), ('trapped', 1), ('in', 1), ('the', 4), ('wheelchair', 1), ('by', 2), ('his', 1), ('broken', 1), ('legs.', 1), ('They', 1), ('made', 1), ('a', 5), ('deal', 1), ('to', 4), ('be', 1), ('a', 5), ('fake', 1), ('couple,', 1), ('but', 1), ('they', 1), ('were', 1), ('attracted', 1), ('to', 4), ('each', 1), ('other', 1), ('gradually.', 1), ('Until', 1), (\"Kimberley's\", 1), ('pregnancy', 1), ('changed', 1), ('everything.', 1), ('She', 1), ('got', 1), ('the', 4), ('baby', 1), ('on', 2), ('that', 2), ('night', 2), ('which', 1), ('was', 5), ('stamped', 1), ('indelibly', 1), ('on', 2), ('her', 5), ('memory.', 1), ('It', 1), ('was', 5), ('that', 2), (\"stranger's\", 1), ('baby.', 1), ('None', 1), ('knew', 1), ('who', 2), ('he', 1), ('was,', 1), ('and', 2), ('an', 1), ('abortion', 1), ('might', 1), ('kill', 1), ('Kimberley.', 1), ('What', 1), ('would', 1), ('Kimberly', 1), ('do?', 1), ('Would', 1), ('she', 3), ('risk', 1), ('her', 5), ('life', 1), ('for', 1), ('the', 4), ('child', 1), ('of', 1), ('a', 5), ('stranger?', 1), ('Or', 1), ('leave', 1), ('the', 4), ('husband', 2), ('she', 3), ('loved?', 1)]\n"
          ]
        }
      ]
    },
    {
      "cell_type": "code",
      "source": [],
      "metadata": {
        "id": "DGGkK03d6LRi"
      },
      "execution_count": null,
      "outputs": []
    },
    {
      "cell_type": "markdown",
      "source": [],
      "metadata": {
        "id": "QihyPEl0Hnbo"
      }
    }
  ]
}