{
  "nbformat": 4,
  "nbformat_minor": 0,
  "metadata": {
    "colab": {
      "provenance": []
    },
    "kernelspec": {
      "name": "python3",
      "display_name": "Python 3"
    },
    "language_info": {
      "name": "python"
    }
  },
  "cells": [
    {
      "cell_type": "code",
      "execution_count": 3,
      "metadata": {
        "id": "Nroc_dXMyj2Q"
      },
      "outputs": [],
      "source": [
        "# lambda program to rearrange positive and non positive numbers in a given list\n",
        "# so that positive numbers come first in the list\n",
        "# followed by negative numbers\n",
        "\n",
        "# given list\n",
        "uche_list = [-2, 6, -6, -1, 8, 7, -9, 4, -3, 1]\n",
        "\n",
        "# rearranging with lambda function\n",
        "uche_list_rearranged = sorted(uche_list, key = lambda i: 0 if i == 0 else -1 / i)\n"
      ]
    },
    {
      "cell_type": "code",
      "source": [
        "print(f\"Initial list: \\n\", uche_list)\n",
        "print(f\"\\nNumbers rearranged, positive before negative:\\n\", uche_list_rearranged)"
      ],
      "metadata": {
        "colab": {
          "base_uri": "https://localhost:8080/"
        },
        "id": "owT3CSEI1fGF",
        "outputId": "e16e5216-324d-4698-e652-fe7f4c8c365e"
      },
      "execution_count": 4,
      "outputs": [
        {
          "output_type": "stream",
          "name": "stdout",
          "text": [
            "Initial list: \n",
            " [-2, 6, -6, -1, 8, 7, -9, 4, -3, 1]\n",
            "\n",
            "Numbers rearranged, positive before negative:\n",
            " [1, 4, 6, 7, 8, -9, -6, -3, -2, -1]\n"
          ]
        }
      ]
    },
    {
      "cell_type": "code",
      "source": [
        "def retrieve_nth_item(list_tuple, n):\n",
        "    \"\"\"Python function to extract the nth element\n",
        "    from a list of tuples\n",
        "    using lambda\"\"\"\n",
        "\n",
        "    outcome = list(map(lambda x: (x[n]), list_tuple))\n",
        "    return outcome\n",
        "\n",
        "phone_models = [(\"Samsung\", \"Iphone\", \"Tecno\", \"Huawei\"), (\"Z flip 4\", \"13 pro max\", \"Camon 19 pro\", \"Mate Xs 2\" )]\n",
        "\n",
        "print(f\"Untampered list:\\n\", phone_models)\n"
      ],
      "metadata": {
        "colab": {
          "base_uri": "https://localhost:8080/"
        },
        "id": "ADs3Y8vs2IcR",
        "outputId": "a1028730-8aad-4a49-a498-51c4ef7143a6"
      },
      "execution_count": 5,
      "outputs": [
        {
          "output_type": "stream",
          "name": "stdout",
          "text": [
            "Untampered list:\n",
            " [('Samsung', 'Iphone', 'Tecno', 'Huawei'), ('Z flip 4', '13 pro max', 'Camon 19 pro', 'Mate Xs 2')]\n"
          ]
        }
      ]
    },
    {
      "cell_type": "code",
      "source": [
        "# when n= -1\n",
        "n = -1\n",
        "print(f\"Retrieve nth item (n = \",n,\") from the given list of tuples: \\n\")\n",
        "print(retrieve_nth_item(phone_models, n), \"\\n..................................\") \n",
        "\n",
        "# when n= 0\n",
        "n = 0\n",
        "print(f\"Retrieve nth item (n = \",n,\") from the given list of tuples: \\n\")\n",
        "print(retrieve_nth_item(phone_models, n), \"\\n..................................\")\n",
        "\n",
        "# when n= 1\n",
        "n = 1\n",
        "print(f\"Retrieve nth item (n = \",n,\") from the given list of tuples: \\n\")\n",
        "print(retrieve_nth_item(phone_models, n), \"\\n..................................\") \n",
        "\n",
        "# when n= 2\n",
        "n = 2\n",
        "print(f\"Retrieve nth item (n = \",n,\") from the given list of tuples: \\n\")\n",
        "print(retrieve_nth_item(phone_models, n), \"\\n..................................\") "
      ],
      "metadata": {
        "colab": {
          "base_uri": "https://localhost:8080/"
        },
        "id": "ue0mHSAW5_Kz",
        "outputId": "f86105a1-093b-490e-dd61-f98b44d3d315"
      },
      "execution_count": 6,
      "outputs": [
        {
          "output_type": "stream",
          "name": "stdout",
          "text": [
            "Retrieve nth item (n =  -1 ) from the given list of tuples: \n",
            "\n",
            "['Huawei', 'Mate Xs 2'] \n",
            "..................................\n",
            "Retrieve nth item (n =  0 ) from the given list of tuples: \n",
            "\n",
            "['Samsung', 'Z flip 4'] \n",
            "..................................\n",
            "Retrieve nth item (n =  1 ) from the given list of tuples: \n",
            "\n",
            "['Iphone', '13 pro max'] \n",
            "..................................\n",
            "Retrieve nth item (n =  2 ) from the given list of tuples: \n",
            "\n",
            "['Tecno', 'Camon 19 pro'] \n",
            "..................................\n"
          ]
        }
      ]
    },
    {
      "cell_type": "code",
      "source": [
        "def filter_odd_numbers(list):\n",
        "    \"\"\"Python program to filter out odd numbers\n",
        "    of a given list\n",
        "    Leaving only even numbers\"\"\"  \n",
        "\n",
        "    even_numbers = []\n",
        "\n",
        "    for num in list:\n",
        "        if num % 2 == 0:\n",
        "            even_numbers.append(num)\n",
        "    return even_numbers\n",
        "\n",
        "uch_list = list(range(10, 30))\n",
        "                \n",
        "\n",
        "\n",
        "\n"
      ],
      "metadata": {
        "id": "UTOiowar79OG"
      },
      "execution_count": 7,
      "outputs": []
    },
    {
      "cell_type": "code",
      "source": [
        "print(f\"Even numbers in a list of range(10, 30):\\n\")\n",
        "print(filter_odd_numbers(uch_list))"
      ],
      "metadata": {
        "colab": {
          "base_uri": "https://localhost:8080/"
        },
        "id": "lBWygVU0-2pi",
        "outputId": "d7dd41c1-c29c-444c-b93b-11c7075b0c2f"
      },
      "execution_count": null,
      "outputs": [
        {
          "output_type": "stream",
          "name": "stdout",
          "text": [
            "Even numbers in a list of range(10, 30):\n",
            "\n",
            "[10, 12, 14, 16, 18, 20, 22, 24, 26, 28]\n"
          ]
        }
      ]
    },
    {
      "cell_type": "code",
      "source": [
        "# list comprehension program\n",
        "# that cubes number 1 through\n",
        "# any number input by user\n",
        "\n",
        "lst =[]\n",
        "user = int(input(\"Enter a number you want to cube through\\n\"))\n",
        "cube = [x*x*x for x in range(1,user+1)]\n",
        "lst.append(cube)\n",
        "print(\"This is your input: \", user)\n",
        "print(\"This is the list of all the cubes from 1 through \", user, lst)"
      ],
      "metadata": {
        "colab": {
          "base_uri": "https://localhost:8080/"
        },
        "id": "3-LW2Uf-_Zs_",
        "outputId": "89b7043f-fa19-4d0d-8717-c5f7134f43f8"
      },
      "execution_count": 2,
      "outputs": [
        {
          "output_type": "stream",
          "name": "stdout",
          "text": [
            "Enter a number you want to cube through\n",
            "5\n",
            "This is your input:  5\n",
            "This is the list of all the cubes from 1 through  5 [[1, 8, 27, 64, 125]]\n"
          ]
        }
      ]
    },
    {
      "cell_type": "code",
      "source": [
        "# Python function to get all vowels \n",
        "# that takes in a string\n",
        "# using list comprehension\n",
        "# return all vowels in the string\n",
        "\n",
        "string_input = input(f\"Enter any text: \")\n",
        "vowels = \"aeiouAEIOU\"\n",
        "\n",
        "# get all vowels in string using list comprehension\n",
        "\n",
        "_all_vowels = [each for each in string_input if each in vowels]\n",
        "\n",
        "print(f\"\\nReturn all vowels in the string:\", _all_vowels)\n",
        "\n"
      ],
      "metadata": {
        "colab": {
          "base_uri": "https://localhost:8080/"
        },
        "id": "xq6Xw6W-B1G6",
        "outputId": "86d9a80e-a8a0-447a-d3b2-1e2a77ed57e2"
      },
      "execution_count": 8,
      "outputs": [
        {
          "output_type": "stream",
          "name": "stdout",
          "text": [
            "Enter any text: I am a champion!\n",
            "\n",
            "Return all vowels in the string: ['I', 'a', 'a', 'a', 'i', 'o']\n"
          ]
        }
      ]
    },
    {
      "cell_type": "markdown",
      "source": [],
      "metadata": {
        "id": "KIve7hle8gaA"
      }
    },
    {
      "cell_type": "code",
      "source": [],
      "metadata": {
        "id": "Lk2g6LF1EKT5"
      },
      "execution_count": null,
      "outputs": []
    }
  ]
}
