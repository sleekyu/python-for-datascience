{
  "nbformat": 4,
  "nbformat_minor": 0,
  "metadata": {
    "colab": {
      "provenance": [],
      "collapsed_sections": []
    },
    "kernelspec": {
      "name": "python3",
      "display_name": "Python 3"
    },
    "language_info": {
      "name": "python"
    }
  },
  "cells": [
    {
      "cell_type": "code",
      "source": [
        "import pandas as pd\n",
        "import numpy as np\n",
        "import random\n",
        "import datetime as dt\n",
        "from collections import Counter\n",
        "import matplotlib.pyplot as plt\n"
      ],
      "metadata": {
        "id": "-yJzYMUzIBNJ"
      },
      "execution_count": 11,
      "outputs": []
    },
    {
      "cell_type": "code",
      "execution_count": 73,
      "metadata": {
        "colab": {
          "base_uri": "https://localhost:8080/"
        },
        "id": "pmuN1DA1FtPv",
        "outputId": "f9f7d909-6669-4b24-8f6b-f2c99c882303"
      },
      "outputs": [
        {
          "output_type": "stream",
          "name": "stdout",
          "text": [
            "['malt', 'red wine', 'vodka']\n"
          ]
        }
      ],
      "source": [
        "  # Question 1\n",
        "  # Get the most frequent element in a flat list of numbers\n",
        "  # If ties, return all such elements\n",
        "\n",
        "  def most_freq_element(list):\n",
        "      \"\"\"This function returns the most frequent element in a given list,\n",
        "      If more than one most frequent element, all such elements will be\n",
        "      returned.\"\"\"\n",
        "\n",
        "      count = Counter(list)\n",
        "      elems = count.most_common()[0][1]\n",
        "      freq_elems = [_ for _, count in count.most_common() if count == elems]\n",
        "      print(freq_elems)\n",
        "      \n",
        "\n",
        "uch_drinks = [\"malt\", \"juice\", \"red wine\", \"red wine\", \"vodka\", \"malt\", \"vodka\", \"gin\"]\n",
        "most_freq_element(uch_drinks)\n",
        "\n"
      ]
    },
    {
      "cell_type": "code",
      "source": [
        "# Another test case\n",
        "uch_materials = [\"cotton\", \"satin\", \"cotton\", \"polyester\", \"cotton\"] \n",
        "most_freq_element(uch_materials)"
      ],
      "metadata": {
        "id": "BKpmggzWUh9F",
        "colab": {
          "base_uri": "https://localhost:8080/"
        },
        "outputId": "403a5cf2-3e17-408e-9cc2-903320e00d09"
      },
      "execution_count": 74,
      "outputs": [
        {
          "output_type": "stream",
          "name": "stdout",
          "text": [
            "['cotton']\n"
          ]
        }
      ]
    },
    {
      "cell_type": "code",
      "source": [
        "# Question 2\n",
        "# Take an arbitrary nested tuple as an input\n",
        "# Flatten into a simple(flat) list\n",
        "\n",
        "def flatten_tuple (nested_tuple):\n",
        "    \"\"\"This function takes in an arbitrary nested tuple and flattens it\n",
        "    to a simple(flat) list.\"\"\"\n",
        "    uchi_list = list(uchi_tuple)\n",
        "    flattened_list=[]\n",
        "    for tup in uchi_list:\n",
        "        for item in tup:\n",
        "            flattened_list.append(item)\n",
        "    print(flattened_list)\n",
        "\n",
        "uchi_tuple = ((3, 2, 13), (4, 2, 3, 5), (7, 6, 12), (1, 9, 3, 2, 4))\n",
        "\n",
        "print(f\"Flattened tuple: \\n\")\n",
        "flatten_tuple(uchi_tuple)"
      ],
      "metadata": {
        "id": "xRdyKPW5VXeL",
        "colab": {
          "base_uri": "https://localhost:8080/"
        },
        "outputId": "87ebc45b-e517-4d0f-c892-15b6c7a30243"
      },
      "execution_count": null,
      "outputs": [
        {
          "output_type": "stream",
          "name": "stdout",
          "text": [
            "Flattened tuple: \n",
            "\n",
            "[3, 2, 13, 4, 2, 3, 5, 7, 6, 12, 1, 9, 3, 2, 4]\n"
          ]
        }
      ]
    },
    {
      "cell_type": "code",
      "source": [
        "# Another test case\n",
        "\n",
        "uchi_tuple1 = ((5, (2, 13)), (3, 2, 4, 6), (2, 5, 10), (1, 9, (3, 2, 4)))\n",
        "print(f\"Flattened tuple2: \\n\")\n",
        "flatten_tuple(uchi_tuple1)"
      ],
      "metadata": {
        "id": "ybYsdDdOVv99",
        "colab": {
          "base_uri": "https://localhost:8080/"
        },
        "outputId": "91a8f20b-0aca-4b2a-95f9-8eefd92f5b1c"
      },
      "execution_count": null,
      "outputs": [
        {
          "output_type": "stream",
          "name": "stdout",
          "text": [
            "Flattened tuple2: \n",
            "\n",
            "[3, 2, 13, 4, 2, 3, 5, 7, 6, 12, 1, 9, 3, 2, 4]\n"
          ]
        }
      ]
    },
    {
      "cell_type": "code",
      "source": [
        "# Question 3\n",
        "# Split a given flat list into a user-specified number of sub-lists if possible\n",
        "# If not possible, display the message to user\n",
        "\n",
        "user_lst = input(\"Enter the elements of your list\\n\")\n",
        "lst=list(user_lst)\n",
        "n = int(input(\"Enter the number of sublists\\n\"))\n",
        "if len(lst)>=n:\n",
        "    result = list((lst[i:i+n] for i in range(0, len(lst), n)))\n",
        "    print(\"List:\")\n",
        "    print (lst)\n",
        "    print(result)\n",
        "\n",
        "else:\n",
        "    print(\"It is not possible, numbers of sub-list is greater than the original list, this is the list you entered\\n\",lst)\n"
      ],
      "metadata": {
        "id": "ueXO5X1DVzu3",
        "colab": {
          "base_uri": "https://localhost:8080/"
        },
        "outputId": "4e7ccea3-8104-413d-e038-fde8f5749539"
      },
      "execution_count": 75,
      "outputs": [
        {
          "output_type": "stream",
          "name": "stdout",
          "text": [
            "Enter the elements of your list\n",
            "1 2 3 4 5 6\n",
            "Enter the number of sublists\n",
            "3\n",
            "List:\n",
            "['1', ' ', '2', ' ', '3', ' ', '4', ' ', '5', ' ', '6']\n",
            "[['1', ' ', '2'], [' ', '3', ' '], ['4', ' ', '5'], [' ', '6']]\n"
          ]
        }
      ]
    },
    {
      "cell_type": "code",
      "source": [
        "# Question 4\n",
        "# Given a function and a simple list\n",
        "# Determine if a given function returns True \n",
        "# For every element in a list\n",
        "\n",
        "def return_bool(my_list, func = lambda x: x):\n",
        "  return all(map(func, my_list))\n",
        "print(return_bool([7, 6, 9,12], lambda x: x > 5))\n",
        "\n",
        "\n",
        "\n",
        "\n"
      ],
      "metadata": {
        "id": "d4_rEP9LW1rO",
        "colab": {
          "base_uri": "https://localhost:8080/"
        },
        "outputId": "c43482a5-cd23-4d1f-c9cb-a7f0c0626a10"
      },
      "execution_count": null,
      "outputs": [
        {
          "output_type": "stream",
          "name": "stdout",
          "text": [
            "True\n"
          ]
        }
      ]
    },
    {
      "cell_type": "code",
      "source": [
        "# Other test cases\n",
        "\n",
        "print(return_bool([7, 6, 9, 12], lambda x: x < 1))\n",
        "print(return_bool([7, 6, 9, 12], lambda x: x == 1))\n",
        "\n"
      ],
      "metadata": {
        "id": "Mi1QSnRjXndD",
        "colab": {
          "base_uri": "https://localhost:8080/"
        },
        "outputId": "03b79192-265c-40d1-b8fa-503da639afb8"
      },
      "execution_count": null,
      "outputs": [
        {
          "output_type": "stream",
          "name": "stdout",
          "text": [
            "False\n",
            "False\n"
          ]
        }
      ]
    },
    {
      "cell_type": "code",
      "source": [
        "# Question 5\n",
        "# Find out if there are duplicate values\n",
        "# In any given (even a nested) list\n",
        "\n",
        "#def check_duplicates (values):\n",
        "    #\"\"\"This function checks if there are duplicate values in any given(even a nested) list.\n",
        "\n",
        "def flatten(a_list):\n",
        "    result = []\n",
        "    for i in a_list:\n",
        "        if isinstance(i,list): \n",
        "            result.extend(flatten(i))\n",
        "        else: \n",
        "            result.append(i)\n",
        "    return result\n",
        "\n",
        "def dup(list):\n",
        "\n",
        "    l=flatten(list)\n",
        "    if len(l) != len(set(l)):\n",
        "        return True\n",
        "    else:\n",
        "        return False\n",
        "states = ['Rivers','Enugu','Imo',['Sokoto','Abia','Rivers'],'Lagos','Bayelsa','Delta',['Ekiti','Ogun']]\n",
        "dup(states)"
      ],
      "metadata": {
        "id": "KDth3VgAXsf1",
        "colab": {
          "base_uri": "https://localhost:8080/"
        },
        "outputId": "3861d767-5a68-4c67-a44c-e55cccbde9e7"
      },
      "execution_count": 42,
      "outputs": [
        {
          "output_type": "execute_result",
          "data": {
            "text/plain": [
              "True"
            ]
          },
          "metadata": {},
          "execution_count": 42
        }
      ]
    },
    {
      "cell_type": "code",
      "source": [
        "# Another test case\n",
        "schools = [\"International Sch\", \"Montessori\", \"Kindergarten\", \"Daycare\"]\n",
        "dup(schools)"
      ],
      "metadata": {
        "id": "muIb99eyYTr-",
        "colab": {
          "base_uri": "https://localhost:8080/"
        },
        "outputId": "d5e95e79-f7d4-4520-81bc-3b73660b797b"
      },
      "execution_count": 41,
      "outputs": [
        {
          "output_type": "execute_result",
          "data": {
            "text/plain": [
              "False"
            ]
          },
          "metadata": {},
          "execution_count": 41
        }
      ]
    },
    {
      "cell_type": "code",
      "source": [
        "# Question 6\n",
        "# Create a NumPy array that contains a 'big X' printed by a chosen character \n",
        "# Ask user to input height of shape as well as a 'brush' character to print\n",
        "# A 'big x' of the specified height\n",
        "# Make sure to check for allowed shape heights  \n",
        "\n",
        "n = int(input(f\"Please enter a shape height within range 3 and 19: \\n  \"))\n",
        "character = input(f\"Please enter a brush character: \")\n",
        "big_x = np.full((n,n),\" \")\n",
        "np.fill_diagonal(big_x, character)\n",
        "np.fill_diagonal(np.fliplr(big_x), character)\n",
        "print(big_x)\n"
      ],
      "metadata": {
        "id": "VdDYJ2oWYXAM",
        "colab": {
          "base_uri": "https://localhost:8080/"
        },
        "outputId": "aac262f9-86dc-4987-9006-5a796f8062cb"
      },
      "execution_count": 38,
      "outputs": [
        {
          "output_type": "stream",
          "name": "stdout",
          "text": [
            "Please enter a shape height within range 3 and 19: \n",
            "  6\n",
            "Please enter a brush character: #\n",
            "[['#' ' ' ' ' ' ' ' ' '#']\n",
            " [' ' '#' ' ' ' ' '#' ' ']\n",
            " [' ' ' ' '#' '#' ' ' ' ']\n",
            " [' ' ' ' '#' '#' ' ' ' ']\n",
            " [' ' '#' ' ' ' ' '#' ' ']\n",
            " ['#' ' ' ' ' ' ' ' ' '#']]\n"
          ]
        }
      ]
    },
    {
      "cell_type": "code",
      "source": [
        "# Question 7\n",
        "# Check if the dimensions of two given NumPy arrays are same.\n",
        "# Your code must work for arrays of any dimension.\n",
        "\n",
        "def dimension_checker(first_array,second_array):\n",
        "    try:\n",
        "        first_array + second_array\n",
        "    except ValueError:\n",
        "        return \"Both array have a different dimension\"\n",
        "    else:\n",
        "        return \"Both array have the same dimension\"\n",
        "first_array = np.arange(25).reshape(5,5)\n",
        "second_array = np.arange(25).reshape(5,5)\n",
        "\n",
        "print(dimension_checker(first_array, second_array))\n"
      ],
      "metadata": {
        "id": "Go9ZUhbXaR7c",
        "colab": {
          "base_uri": "https://localhost:8080/"
        },
        "outputId": "c114d6fe-27a7-4f95-a886-b7b7ae133f24"
      },
      "execution_count": null,
      "outputs": [
        {
          "output_type": "stream",
          "name": "stdout",
          "text": [
            "Both array have the same dimension\n"
          ]
        }
      ]
    },
    {
      "cell_type": "code",
      "source": [
        "# Another test case\n",
        "\n",
        "first_array = np.arange(30).reshape(6,5)\n",
        "second_array = np.arange(30).reshape(5,6)\n",
        "\n",
        "print(dimension_checker(first_array, second_array))"
      ],
      "metadata": {
        "id": "lglSy-5XbB8Z",
        "colab": {
          "base_uri": "https://localhost:8080/"
        },
        "outputId": "d3f713dd-2b0b-48e8-8d18-256dabf87962"
      },
      "execution_count": null,
      "outputs": [
        {
          "output_type": "stream",
          "name": "stdout",
          "text": [
            "Both array have a different dimension\n"
          ]
        }
      ]
    },
    {
      "cell_type": "code",
      "source": [
        "# Question 8\n",
        "# Get all possible 2-dimensional diagonals of \n",
        "# Any given 3-dimensional NumPy array.\n",
        "\n",
        "uch_arr = np.arange(3 * 4 * 4).reshape(3, 4, 4)\n",
        "  \n",
        "print(f\"Original 3d array:\\n\\n\", uch_arr, \"\\n.............................\")\n",
        "  \n",
        "# Create 2D diagonal array\n",
        "uch_diag_arr = np.diagonal(uch_arr, axis1 = 1, axis2 = 2)\n",
        "  \n",
        "print(f\"\\n2d diagonal array:\\n\\n\", uch_diag_arr)"
      ],
      "metadata": {
        "id": "H7TIZwEKbGCJ",
        "colab": {
          "base_uri": "https://localhost:8080/"
        },
        "outputId": "f7cf3bc8-8900-46f8-8adb-a9b3500aa9aa"
      },
      "execution_count": null,
      "outputs": [
        {
          "output_type": "stream",
          "name": "stdout",
          "text": [
            "Original 3d array:\n",
            "\n",
            " [[[ 0  1  2  3]\n",
            "  [ 4  5  6  7]\n",
            "  [ 8  9 10 11]\n",
            "  [12 13 14 15]]\n",
            "\n",
            " [[16 17 18 19]\n",
            "  [20 21 22 23]\n",
            "  [24 25 26 27]\n",
            "  [28 29 30 31]]\n",
            "\n",
            " [[32 33 34 35]\n",
            "  [36 37 38 39]\n",
            "  [40 41 42 43]\n",
            "  [44 45 46 47]]] \n",
            ".............................\n",
            "\n",
            "2d diagonal array:\n",
            "\n",
            " [[ 0  5 10 15]\n",
            " [16 21 26 31]\n",
            " [32 37 42 47]]\n"
          ]
        }
      ]
    },
    {
      "cell_type": "code",
      "source": [
        "# Question 9\n",
        "# Create a 16x16 NumPy array that represents a digit '5'. \n",
        "# Plot the digit on the screen.\n",
        "\n",
        "digit_5 = np.array([[255,255,255,255,255,255,255,255,255,255,255,255,255,255,255,255],\n",
        "                    [255,255,255,255,255,255,255,255,255,255,255,255,255,255,255,255],\n",
        "                    [255,255,0,0,0,0,0,0,0,0,0,0,0,0,0,0],\n",
        "                    [255,255,0,0,0,0,0,0,0,0,0,0,0,0,0,0],\n",
        "                    [255,255,0,0,0,0,0,0,0,0,0,0,0,0,0,0],\n",
        "                    [255,255,0,0,0,0,0,0,0,0,0,0,0,0,0,0],\n",
        "                    [255,255,255,255,255,255,255,255,255,255,255,255,255,255,255,255],\n",
        "                    [255,255,255,255,255,255,255,255,255,255,255,255,255,255,255,255],\n",
        "                    [255,255,255,255,255,255,255,255,255,255,255,255,255,255,255,255],\n",
        "                    [0,0,0,0,0,0,0,0,0,0,0,0,0,0,255,255],\n",
        "                    [0,0,0,0,0,0,0,0,0,0,0,0,0,0,255,255],\n",
        "                    [0,0,0,0,0,0,0,0,0,0,0,0,0,0,255,255],\n",
        "                    [0,0,0,0,0,0,0,0,0,0,0,0,0,0,255,255],\n",
        "                    [0,0,0,0,0,0,0,0,0,0,0,0,0,0,255,255],\n",
        "                    [255,255,255,255,255,255,255,255,255,255,255,255,255,255,255,255],\n",
        "                    [255,255,255,255,255,255,255,255,255,255,255,255,255,255,255,255]])\n",
        "\n",
        "plt.imshow(digit_5)\n"
      ],
      "metadata": {
        "id": "bhg2of46bkpR",
        "colab": {
          "base_uri": "https://localhost:8080/",
          "height": 283
        },
        "outputId": "bbf3c18d-37b5-4111-f091-ea1c3f27cf36"
      },
      "execution_count": 15,
      "outputs": [
        {
          "output_type": "execute_result",
          "data": {
            "text/plain": [
              "<matplotlib.image.AxesImage at 0x7f5f0ff7d210>"
            ]
          },
          "metadata": {},
          "execution_count": 15
        },
        {
          "output_type": "display_data",
          "data": {
            "text/plain": [
              "<Figure size 432x288 with 1 Axes>"
            ],
            "image/png": "[encoded data removed]"
          },
          "metadata": {
            "needs_background": "light"
          }
        }
      ]
    },
    {
      "cell_type": "code",
      "source": [
        "#solution9"
      ],
      "metadata": {
        "id": "j7zFuwJgcN8C"
      },
      "execution_count": null,
      "outputs": []
    },
    {
      "cell_type": "code",
      "source": [
        "# Question 10\n",
        "# Get the total number of non-zero elements in a numerical 3-dimensional array.\n",
        "\n",
        "def total_non_zero_count(arr):\n",
        "    \"\"\"This function takes in a given array and returns the total number of \n",
        "    non-zero elements in a numerical 3D array.\"\"\"\n",
        "\n",
        "    return np.count_nonzero(arr)\n",
        "\n",
        "_3d_array = np.array([\n",
        "          [[2, 3, 0, 5, 6, 0], [3, 5, 0, 0, 1, 2], [0, 3, 0, 0, 1, 5]]\n",
        "])\n",
        "\n",
        "print(f\"Total number of non-zero elements: \\n\")\n",
        "total_non_zero_count(_3d_array)\n",
        "    \n",
        "\n",
        "\n"
      ],
      "metadata": {
        "id": "lmDlniFjcSRg",
        "colab": {
          "base_uri": "https://localhost:8080/"
        },
        "outputId": "d3a6eb59-3b39-4bbf-bea8-831a627b2a20"
      },
      "execution_count": null,
      "outputs": [
        {
          "output_type": "stream",
          "name": "stdout",
          "text": [
            "Total number of non-zero elements: \n",
            "\n"
          ]
        },
        {
          "output_type": "execute_result",
          "data": {
            "text/plain": [
              "11"
            ]
          },
          "metadata": {},
          "execution_count": 24
        }
      ]
    },
    {
      "cell_type": "code",
      "source": [
        "# Another test case\n",
        "\n",
        "_3d_array1 = np.array([\n",
        "          [[2, 1, 0, 5, 0, 0], [1, 3, 0, 0, 1, 2], [1, 3, 0, 0, 1, 4],\n",
        "          [1, 3, 4, 2, 0, 3]]\n",
        "])\n",
        "\n",
        "print(f\"Total number of non-zero elements: \\n\")\n",
        "total_non_zero_count(_3d_array1)"
      ],
      "metadata": {
        "id": "4YL-1k8VcxIL",
        "colab": {
          "base_uri": "https://localhost:8080/"
        },
        "outputId": "3ef3087b-01ec-430c-fdc4-799e83edc935"
      },
      "execution_count": null,
      "outputs": [
        {
          "output_type": "stream",
          "name": "stdout",
          "text": [
            "Total number of non-zero elements: \n",
            "\n"
          ]
        },
        {
          "output_type": "execute_result",
          "data": {
            "text/plain": [
              "16"
            ]
          },
          "metadata": {},
          "execution_count": 27
        }
      ]
    },
    {
      "cell_type": "code",
      "source": [
        "\n",
        "# Question 11\n",
        "# Determine if a specific key and a value combination exists in a dictionary.\n",
        "# wrong code\n",
        "\n",
        "def key_value_check(key, val):\n",
        "    \"\"\"This function is to check if a specific key value combination is present\n",
        "    in a given dictionary.\"\"\"\n",
        "    \n",
        "    if (key, val) in dict.items():\n",
        "        print(\"Key and Value exists\")\n",
        "    else:\n",
        "        print(\"Key value pair doesn't exists\")\n",
        "\n",
        "dict = {\n",
        "    \"Course\": \"CS001\",\n",
        "    \"Course Title\": \"Python Basics\",\n",
        "    \"Scores\": \"90\",\n",
        "    \"Grade\": \"A\",\n",
        "}\n",
        "\n",
        "\n",
        "\n",
        "key_value_check(\"Scores\", 100)\n"
      ],
      "metadata": {
        "id": "e0_bSqTZc3h3",
        "colab": {
          "base_uri": "https://localhost:8080/"
        },
        "outputId": "4793a852-c6bd-4940-85bf-5260a1f64306"
      },
      "execution_count": 92,
      "outputs": [
        {
          "output_type": "stream",
          "name": "stdout",
          "text": [
            "Key value pair doesn't exists\n"
          ]
        }
      ]
    },
    {
      "cell_type": "code",
      "source": [
        "# Another test case\n",
        "key_value_check(\"Course Title\", \"Python Basics\")"
      ],
      "metadata": {
        "id": "XKHv2XQudKfV",
        "colab": {
          "base_uri": "https://localhost:8080/"
        },
        "outputId": "6f90982b-53be-4f55-9505-2e87082b77b6"
      },
      "execution_count": 93,
      "outputs": [
        {
          "output_type": "stream",
          "name": "stdout",
          "text": [
            "Key and Value exists\n"
          ]
        }
      ]
    },
    {
      "cell_type": "code",
      "source": [
        "# Question 12\n",
        "# Get a list of all the words in a given string consisting \n",
        "# Of all the words whose lengths are even numbers.\n",
        "\n",
        "def get_wordlen_even(str):\n",
        "    \"\"\"This function gets a list of all the words in a given string consisting of all \n",
        "    words whose lengths are even numbers.\"\"\"\n",
        "    \n",
        "    my_list = str.split()\n",
        "    even_list=[]\n",
        "    for words in my_list:\n",
        "        if len(words)%2==0:\n",
        "            even_list.append(words)\n",
        "    print (f\"The list of words is :\\n\\n \",my_list)\n",
        "    print(f\"\\nWords whose lengths are even number:\\n\\n\", even_list)\n",
        "\n",
        "\n",
        "\n",
        "uch_stri = \"This is a beautiful day of project defense.\"\n",
        "my_list = str.split(uch_stri)\n",
        "\n",
        "get_wordlen_even(uch_stri)        \n"
      ],
      "metadata": {
        "id": "hAgQCkWLdQ5u",
        "colab": {
          "base_uri": "https://localhost:8080/"
        },
        "outputId": "4fcaf2f3-ea52-44c8-c566-a47b9b81229d"
      },
      "execution_count": 24,
      "outputs": [
        {
          "output_type": "stream",
          "name": "stdout",
          "text": [
            "The list of words is :\n",
            "\n",
            "  ['This', 'is', 'a', 'beautiful', 'day', 'of', 'project', 'defense.']\n",
            "\n",
            "Words whose lengths are even number:\n",
            "\n",
            " ['This', 'is', 'of', 'defense.']\n"
          ]
        }
      ]
    },
    {
      "cell_type": "code",
      "source": [
        "# Another test case\n",
        "uch_stri1 = \"I am excited about a career path in data science.\"\n",
        "my_list = str.split(uch_stri1)\n",
        "get_wordlen_even(uch_stri1)"
      ],
      "metadata": {
        "id": "V_qxvY1Bdpc_",
        "colab": {
          "base_uri": "https://localhost:8080/"
        },
        "outputId": "7b86b69d-8d8a-4552-dcd4-13db7e58537a"
      },
      "execution_count": 25,
      "outputs": [
        {
          "output_type": "stream",
          "name": "stdout",
          "text": [
            "The list of words is :\n",
            "\n",
            "  ['I', 'am', 'excited', 'about', 'a', 'career', 'path', 'in', 'data', 'science.']\n",
            "\n",
            "Words whose lengths are even number:\n",
            "\n",
            " ['am', 'career', 'path', 'in', 'data', 'science.']\n"
          ]
        }
      ]
    },
    {
      "cell_type": "code",
      "source": [
        "# Question 13\n",
        "# Count the numbers that are greater than the previous number on the list\n",
        "# Given an arbitrary list of integers\n",
        "\n",
        "def num_greater_than_previous(my_list):\n",
        "    \"\"\"This function counts the numbers that are greater than the previous\n",
        "    number in a given arbitrary list.\"\"\"\n",
        "\n",
        "    prev = my_list[0]\n",
        "    lst=[]\n",
        "    count=0\n",
        "    while count < len(my_list):\n",
        "        for i in my_list[1:]:\n",
        "            if i > count:\n",
        "                lst.append(i)\n",
        "                a=set(lst)\n",
        "                b=len(a)\n",
        "                if b == 1:\n",
        "                        if my_list[0]>=my_list[1]:\n",
        "                            b=0\n",
        "                        else:\n",
        "                            b=1\n",
        "                if len(my_list) > 2:\n",
        "                    if my_list[0]>my_list[1]:\n",
        "                        b-=1\n",
        "                    else:\n",
        "                        b=b\n",
        "                count+=1\n",
        "\n",
        "    print(\"The number count greater than the previous numbers on the list is\", b)\n",
        "\n",
        "urch_list1=[6,4,5,6]\n",
        "num_greater_than_previous(urch_list1)\n",
        "  "
      ],
      "metadata": {
        "id": "nY7lL1xFdsxR",
        "colab": {
          "base_uri": "https://localhost:8080/"
        },
        "outputId": "3eea7adc-f6eb-436d-fd74-0f8348817ffa"
      },
      "execution_count": 17,
      "outputs": [
        {
          "output_type": "stream",
          "name": "stdout",
          "text": [
            "The number count greater than the previous numbers on the list is 2\n"
          ]
        }
      ]
    },
    {
      "cell_type": "code",
      "source": [
        "# Other test cases\n",
        "urch_list2=[2,4,5,6]\n",
        "urch_list3=[6,3]\n",
        "urch_list4=[6,7]\n",
        "\n",
        "\n",
        "\n",
        "num_greater_than_previous(urch_list2)\n",
        "num_greater_than_previous(urch_list3)\n",
        "num_greater_than_previous(urch_list4)\n"
      ],
      "metadata": {
        "id": "TTisTFEqdy5S",
        "colab": {
          "base_uri": "https://localhost:8080/"
        },
        "outputId": "077785b7-5f58-4770-f20f-681f1d780e47"
      },
      "execution_count": 18,
      "outputs": [
        {
          "output_type": "stream",
          "name": "stdout",
          "text": [
            "The number count greater than the previous numbers on the list is 3\n",
            "The number count greater than the previous numbers on the list is 0\n",
            "The number count greater than the previous numbers on the list is 1\n"
          ]
        }
      ]
    },
    {
      "cell_type": "code",
      "source": [
        "# Question 14\n",
        "# Find out if a given string is a palindrome. \n",
        "# A palindrome is a string that reads the same backward as forward.\n",
        "def palindrome_check(str):\n",
        "    \"\"\"This function takes in a given string and checks whether it reads the \n",
        "    same backward and forward.\"\"\"\n",
        "    return str == str[::-1]\n",
        "\n",
        "uche_str1 = \"level\"\n",
        "palindrome_check(uche_str1)\n"
      ],
      "metadata": {
        "id": "a_PP4GTpeL_U",
        "colab": {
          "base_uri": "https://localhost:8080/"
        },
        "outputId": "1ae639b8-5be7-43b2-d707-f303ef5265af"
      },
      "execution_count": null,
      "outputs": [
        {
          "output_type": "execute_result",
          "data": {
            "text/plain": [
              "True"
            ]
          },
          "metadata": {},
          "execution_count": 37
        }
      ]
    },
    {
      "cell_type": "code",
      "source": [
        "# Other test cases\n",
        "uche_str2 = \"refer\"\n",
        "uche_str3 = \"exercise\"\n",
        "uche_str4 = \"madam\"\n",
        "uche_str5 = \"school\"\n",
        "\n",
        "print(palindrome_check(uche_str2))\n",
        "print(palindrome_check(uche_str3))\n",
        "print(palindrome_check(uche_str4))\n",
        "print(palindrome_check(uche_str5))"
      ],
      "metadata": {
        "id": "f2zXzTjJfxrx",
        "colab": {
          "base_uri": "https://localhost:8080/"
        },
        "outputId": "4b67ebab-e2ba-4a0d-9598-cc5d5af548ce"
      },
      "execution_count": null,
      "outputs": [
        {
          "output_type": "stream",
          "name": "stdout",
          "text": [
            "True\n",
            "False\n",
            "True\n",
            "False\n"
          ]
        }
      ]
    },
    {
      "cell_type": "code",
      "source": [
        "# Question 15\n",
        "# Have the user input their birth date\n",
        "# Then compute the users age in only minutes and seconds.\n",
        "\n",
        "def age_in_mins_secs():\n",
        "    birth_year = int(input(f\"Please enter year of birth: \\n\"))\n",
        "    birth_month = int(input(f\"Please enter month of birth: \\n\"))\n",
        "    birth_day = int(input(f\"Please enter day of birth: \\n\"))\n",
        "\n",
        "    birth_date = dt.datetime(birth_year, birth_month, birth_day)\n",
        "    age = (dt.datetime.now() - birth_date)\n",
        "\n",
        "    # First calculate age in days\n",
        "    age_in_days = age.days\n",
        "\n",
        "    # Get age in mins. Convert age in days to age in mins.\n",
        "    day_2_m = 24 * 60\n",
        "    convert_agedays_2_agemins = age_in_days * day_2_m\n",
        "    age_in_mins = convert_agedays_2_agemins\n",
        "\n",
        "    #  Get age in secs. Convert age in mins to age in secs\n",
        "    age_in_secs = age_in_mins * 60\n",
        "\n",
        "    print(f\"\\nYour age in mins:\\n\", \"\\nYou are approximately\", str(age_in_mins), \"mins old\\n.................\")\n",
        "    print(f\"Your age in secs:\\n\", \"\\nYou are approximately\", str(age_in_secs), \"secs old\")\n",
        "\n",
        "\n",
        "age_in_mins_secs()    \n",
        "\n",
        "\n"
      ],
      "metadata": {
        "id": "ea3VQatZf0b6",
        "colab": {
          "base_uri": "https://localhost:8080/"
        },
        "outputId": "d3caf3e4-537b-41f9-b4a5-757187070afa"
      },
      "execution_count": null,
      "outputs": [
        {
          "output_type": "stream",
          "name": "stdout",
          "text": [
            "Please enter year of birth: \n",
            "1988\n",
            "Please enter month of birth: \n",
            "4\n",
            "Please enter day of birth: \n",
            "26\n",
            "\n",
            "Your age in mins:\n",
            " \n",
            "You are approximately 18136800 mins old\n",
            ".................\n",
            "Your age in secs:\n",
            " \n",
            "You are approximately 1088208000 secs old\n"
          ]
        }
      ]
    },
    {
      "cell_type": "code",
      "source": [
        "# Another test case\n",
        "age_in_mins_secs()"
      ],
      "metadata": {
        "id": "QMOr2JZkgReN",
        "colab": {
          "base_uri": "https://localhost:8080/"
        },
        "outputId": "feeae82c-d5a0-4d0f-a085-4be0151ce7ad"
      },
      "execution_count": null,
      "outputs": [
        {
          "output_type": "stream",
          "name": "stdout",
          "text": [
            "Please enter year of birth: \n",
            "1990\n",
            "Please enter month of birth: \n",
            "7\n",
            "Please enter day of birth: \n",
            "9\n",
            "\n",
            "Your age in mins:\n",
            " \n",
            "You are approximately 16979040 mins old\n",
            ".................\n",
            "Your age in secs:\n",
            " \n",
            "You are approximately 1018742400 secs old\n"
          ]
        }
      ]
    },
    {
      "cell_type": "code",
      "source": [
        "# Question 16\n",
        "# Retrieve the items of a given pandas Series object \n",
        "# Not present in another given Series object.\n",
        "\n",
        "uch_series1 = pd.Series([1, 2, 3, 4, 6])\n",
        "uch_series2 = pd.Series([2, 5, 8, 7, 3])"
      ],
      "metadata": {
        "id": "KKtxcl33gWBG"
      },
      "execution_count": null,
      "outputs": []
    },
    {
      "cell_type": "code",
      "source": [
        "#solution16\n",
        "outcome = uch_series1[~uch_series1.isin(uch_series2)]\n",
        "\n",
        "print(outcome)"
      ],
      "metadata": {
        "id": "h6NmT1M9g_q3",
        "colab": {
          "base_uri": "https://localhost:8080/"
        },
        "outputId": "794ebc97-dd7e-4e03-d211-dfefc769de33"
      },
      "execution_count": null,
      "outputs": [
        {
          "output_type": "stream",
          "name": "stdout",
          "text": [
            "0    1\n",
            "3    4\n",
            "4    6\n",
            "dtype: int64\n"
          ]
        }
      ]
    },
    {
      "cell_type": "code",
      "source": [
        "# Question 17\n",
        "# Have the user input the temperature in Celsius degrees\n",
        "# Then display the equivalent temperature in Fahrenheit degrees (F = 9/5 * C + 32).\n",
        "\n",
        "def celsius_to_fahrenheit():\n",
        "    \"\"\"This function takes in a user's temperature input in degrees Celsius \n",
        "    and returns the equivalent temperature in degrees Fahrenheit.\"\"\"\n",
        "\n",
        "    Celsius = int(input(f\"Enter Temp in Celsius: \\n\"))\n",
        "    print(f\"Temp in Celsius is:\", Celsius)\n",
        "    equivalent_F = (9/5 * Celsius) + 32\n",
        "    print(f\"\\nEquivalent Temp in Fahrenheit is:\", equivalent_F, \"F\")\n",
        "\n",
        "celsius_to_fahrenheit()\n",
        "\n",
        "\n",
        "\n"
      ],
      "metadata": {
        "id": "MJDMYSaOhJUN",
        "colab": {
          "base_uri": "https://localhost:8080/"
        },
        "outputId": "1563cdc2-7cff-4aca-e685-71d13a798ea7"
      },
      "execution_count": null,
      "outputs": [
        {
          "output_type": "stream",
          "name": "stdout",
          "text": [
            "Enter Temp in Celsius: \n",
            "100\n",
            "Temp in Celsius is: 100\n",
            "\n",
            "Equivalent Temp in Fahrenheit is: 212.0 F\n"
          ]
        }
      ]
    },
    {
      "cell_type": "code",
      "source": [
        "# Another test case\n",
        "celsius_to_fahrenheit()"
      ],
      "metadata": {
        "id": "bnNoRD3Qhi_U",
        "colab": {
          "base_uri": "https://localhost:8080/"
        },
        "outputId": "477c23c1-12b2-43d3-ece7-2c6d70124717"
      },
      "execution_count": null,
      "outputs": [
        {
          "output_type": "stream",
          "name": "stdout",
          "text": [
            "Enter Temp in Celsius: \n",
            "250\n",
            "Temp in Celsius is: 250\n",
            "\n",
            "Equivalent Temp in Fahrenheit is: 482.0 F\n"
          ]
        }
      ]
    },
    {
      "cell_type": "code",
      "source": [
        "# Question 18\n",
        "# Insert a column at a given specific index in a given pandas DataFrame. \n",
        "# Initially, new column will contain a single default value for its contents.\n",
        "# Create DataFrame from dictionary\n",
        "\n",
        "dict = {\n",
        "    \"Course Title\" : [\"Python Basics\", \"Control Structures\", \"Pandas\", \"NumPy\", \"Matplotlib\"],\n",
        "    \"Scores\" : [90, 99, 96, 95, 90]\n",
        "}\n",
        "\n",
        "uch_df = pd.DataFrame(dict)\n",
        "\n",
        "uch_df"
      ],
      "metadata": {
        "id": "Mooz6f0xhmsv",
        "colab": {
          "base_uri": "https://localhost:8080/",
          "height": 206
        },
        "outputId": "17500a90-d488-4750-c649-7b5406ab2f57"
      },
      "execution_count": null,
      "outputs": [
        {
          "output_type": "execute_result",
          "data": {
            "text/plain": [
              "         Course Title  Scores\n",
              "0       Python Basics      90\n",
              "1  Control Structures      99\n",
              "2              Pandas      96\n",
              "3               NumPy      95\n",
              "4          Matplotlib      90"
            ],
            "text/html": [
              "\n",
              "  <div id=\"df-c6471abb-063f-4060-9e8b-a4dbdb0c015b\">\n",
              "    <div class=\"colab-df-container\">\n",
              "      <div>\n",
              "<style scoped>\n",
              "    .dataframe tbody tr th:only-of-type {\n",
              "        vertical-align: middle;\n",
              "    }\n",
              "\n",
              "    .dataframe tbody tr th {\n",
              "        vertical-align: top;\n",
              "    }\n",
              "\n",
              "    .dataframe thead th {\n",
              "        text-align: right;\n",
              "    }\n",
              "</style>\n",
              "<table border=\"1\" class=\"dataframe\">\n",
              "  <thead>\n",
              "    <tr style=\"text-align: right;\">\n",
              "      <th></th>\n",
              "      <th>Course Title</th>\n",
              "      <th>Scores</th>\n",
              "    </tr>\n",
              "  </thead>\n",
              "  <tbody>\n",
              "    <tr>\n",
              "      <th>0</th>\n",
              "      <td>Python Basics</td>\n",
              "      <td>90</td>\n",
              "    </tr>\n",
              "    <tr>\n",
              "      <th>1</th>\n",
              "      <td>Control Structures</td>\n",
              "      <td>99</td>\n",
              "    </tr>\n",
              "    <tr>\n",
              "      <th>2</th>\n",
              "      <td>Pandas</td>\n",
              "      <td>96</td>\n",
              "    </tr>\n",
              "    <tr>\n",
              "      <th>3</th>\n",
              "      <td>NumPy</td>\n",
              "      <td>95</td>\n",
              "    </tr>\n",
              "    <tr>\n",
              "      <th>4</th>\n",
              "      <td>Matplotlib</td>\n",
              "      <td>90</td>\n",
              "    </tr>\n",
              "  </tbody>\n",
              "</table>\n",
              "</div>\n",
              "      <button class=\"colab-df-convert\" onclick=\"convertToInteractive('df-c6471abb-063f-4060-9e8b-a4dbdb0c015b')\"\n",
              "              title=\"Convert this dataframe to an interactive table.\"\n",
              "              style=\"display:none;\">\n",
              "        \n",
              "  <svg xmlns=\"http://www.w3.org/2000/svg\" height=\"24px\"viewBox=\"0 0 24 24\"\n",
              "       width=\"24px\">\n",
              "    <path d=\"M0 0h24v24H0V0z\" fill=\"none\"/>\n",
              "    <path d=\"M18.56 5.44l.94 2.06.94-2.06 2.06-.94-2.06-.94-.94-2.06-.94 2.06-2.06.94zm-11 1L8.5 8.5l.94-2.06 2.06-.94-2.06-.94L8.5 2.5l-.94 2.06-2.06.94zm10 10l.94 2.06.94-2.06 2.06-.94-2.06-.94-.94-2.06-.94 2.06-2.06.94z\"/><path d=\"M17.41 7.96l-1.37-1.37c-.4-.4-.92-.59-1.43-.59-.52 0-1.04.2-1.43.59L10.3 9.45l-7.72 7.72c-.78.78-.78 2.05 0 2.83L4 21.41c.39.39.9.59 1.41.59.51 0 1.02-.2 1.41-.59l7.78-7.78 2.81-2.81c.8-.78.8-2.07 0-2.86zM5.41 20L4 18.59l7.72-7.72 1.47 1.35L5.41 20z\"/>\n",
              "  </svg>\n",
              "      </button>\n",
              "      \n",
              "  <style>\n",
              "    .colab-df-container {\n",
              "      display:flex;\n",
              "      flex-wrap:wrap;\n",
              "      gap: 12px;\n",
              "    }\n",
              "\n",
              "    .colab-df-convert {\n",
              "      background-color: #E8F0FE;\n",
              "      border: none;\n",
              "      border-radius: 50%;\n",
              "      cursor: pointer;\n",
              "      display: none;\n",
              "      fill: #1967D2;\n",
              "      height: 32px;\n",
              "      padding: 0 0 0 0;\n",
              "      width: 32px;\n",
              "    }\n",
              "\n",
              "    .colab-df-convert:hover {\n",
              "      background-color: #E2EBFA;\n",
              "      box-shadow: 0px 1px 2px rgba(60, 64, 67, 0.3), 0px 1px 3px 1px rgba(60, 64, 67, 0.15);\n",
              "      fill: #174EA6;\n",
              "    }\n",
              "\n",
              "    [theme=dark] .colab-df-convert {\n",
              "      background-color: #3B4455;\n",
              "      fill: #D2E3FC;\n",
              "    }\n",
              "\n",
              "    [theme=dark] .colab-df-convert:hover {\n",
              "      background-color: #434B5C;\n",
              "      box-shadow: 0px 1px 3px 1px rgba(0, 0, 0, 0.15);\n",
              "      filter: drop-shadow(0px 1px 2px rgba(0, 0, 0, 0.3));\n",
              "      fill: #FFFFFF;\n",
              "    }\n",
              "  </style>\n",
              "\n",
              "      <script>\n",
              "        const buttonEl =\n",
              "          document.querySelector('#df-c6471abb-063f-4060-9e8b-a4dbdb0c015b button.colab-df-convert');\n",
              "        buttonEl.style.display =\n",
              "          google.colab.kernel.accessAllowed ? 'block' : 'none';\n",
              "\n",
              "        async function convertToInteractive(key) {\n",
              "          const element = document.querySelector('#df-c6471abb-063f-4060-9e8b-a4dbdb0c015b');\n",
              "          const dataTable =\n",
              "            await google.colab.kernel.invokeFunction('convertToInteractive',\n",
              "                                                     [key], {});\n",
              "          if (!dataTable) return;\n",
              "\n",
              "          const docLinkHtml = 'Like what you see? Visit the ' +\n",
              "            '<a target=\"_blank\" href=https://colab.research.google.com/notebooks/data_table.ipynb>data table notebook</a>'\n",
              "            + ' to learn more about interactive tables.';\n",
              "          element.innerHTML = '';\n",
              "          dataTable['output_type'] = 'display_data';\n",
              "          await google.colab.output.renderOutput(dataTable, element);\n",
              "          const docLink = document.createElement('div');\n",
              "          docLink.innerHTML = docLinkHtml;\n",
              "          element.appendChild(docLink);\n",
              "        }\n",
              "      </script>\n",
              "    </div>\n",
              "  </div>\n",
              "  "
            ]
          },
          "metadata": {},
          "execution_count": 8
        }
      ]
    },
    {
      "cell_type": "code",
      "source": [
        "#solution18\n",
        "# Add column to DataFrame at a given index \n",
        "# With single default value as initial contents (data)\n",
        "# using .insert() method\n",
        "data = \"CS001\"\n",
        "uch_df.insert(0, \"Course\", data)\n",
        "\n",
        "uch_df\n"
      ],
      "metadata": {
        "id": "AU9mg5sTiAwa",
        "colab": {
          "base_uri": "https://localhost:8080/",
          "height": 206
        },
        "outputId": "3623fa09-4d01-488a-d8d3-b2b3075af11f"
      },
      "execution_count": null,
      "outputs": [
        {
          "output_type": "execute_result",
          "data": {
            "text/plain": [
              "  Course        Course Title  Scores\n",
              "0  CS001       Python Basics      90\n",
              "1  CS001  Control Structures      99\n",
              "2  CS001              Pandas      96\n",
              "3  CS001               NumPy      95\n",
              "4  CS001          Matplotlib      90"
            ],
            "text/html": [
              "\n",
              "  <div id=\"df-2b7a4aa5-ac90-4852-a76a-7a55230949f3\">\n",
              "    <div class=\"colab-df-container\">\n",
              "      <div>\n",
              "<style scoped>\n",
              "    .dataframe tbody tr th:only-of-type {\n",
              "        vertical-align: middle;\n",
              "    }\n",
              "\n",
              "    .dataframe tbody tr th {\n",
              "        vertical-align: top;\n",
              "    }\n",
              "\n",
              "    .dataframe thead th {\n",
              "        text-align: right;\n",
              "    }\n",
              "</style>\n",
              "<table border=\"1\" class=\"dataframe\">\n",
              "  <thead>\n",
              "    <tr style=\"text-align: right;\">\n",
              "      <th></th>\n",
              "      <th>Course</th>\n",
              "      <th>Course Title</th>\n",
              "      <th>Scores</th>\n",
              "    </tr>\n",
              "  </thead>\n",
              "  <tbody>\n",
              "    <tr>\n",
              "      <th>0</th>\n",
              "      <td>CS001</td>\n",
              "      <td>Python Basics</td>\n",
              "      <td>90</td>\n",
              "    </tr>\n",
              "    <tr>\n",
              "      <th>1</th>\n",
              "      <td>CS001</td>\n",
              "      <td>Control Structures</td>\n",
              "      <td>99</td>\n",
              "    </tr>\n",
              "    <tr>\n",
              "      <th>2</th>\n",
              "      <td>CS001</td>\n",
              "      <td>Pandas</td>\n",
              "      <td>96</td>\n",
              "    </tr>\n",
              "    <tr>\n",
              "      <th>3</th>\n",
              "      <td>CS001</td>\n",
              "      <td>NumPy</td>\n",
              "      <td>95</td>\n",
              "    </tr>\n",
              "    <tr>\n",
              "      <th>4</th>\n",
              "      <td>CS001</td>\n",
              "      <td>Matplotlib</td>\n",
              "      <td>90</td>\n",
              "    </tr>\n",
              "  </tbody>\n",
              "</table>\n",
              "</div>\n",
              "      <button class=\"colab-df-convert\" onclick=\"convertToInteractive('df-2b7a4aa5-ac90-4852-a76a-7a55230949f3')\"\n",
              "              title=\"Convert this dataframe to an interactive table.\"\n",
              "              style=\"display:none;\">\n",
              "        \n",
              "  <svg xmlns=\"http://www.w3.org/2000/svg\" height=\"24px\"viewBox=\"0 0 24 24\"\n",
              "       width=\"24px\">\n",
              "    <path d=\"M0 0h24v24H0V0z\" fill=\"none\"/>\n",
              "    <path d=\"M18.56 5.44l.94 2.06.94-2.06 2.06-.94-2.06-.94-.94-2.06-.94 2.06-2.06.94zm-11 1L8.5 8.5l.94-2.06 2.06-.94-2.06-.94L8.5 2.5l-.94 2.06-2.06.94zm10 10l.94 2.06.94-2.06 2.06-.94-2.06-.94-.94-2.06-.94 2.06-2.06.94z\"/><path d=\"M17.41 7.96l-1.37-1.37c-.4-.4-.92-.59-1.43-.59-.52 0-1.04.2-1.43.59L10.3 9.45l-7.72 7.72c-.78.78-.78 2.05 0 2.83L4 21.41c.39.39.9.59 1.41.59.51 0 1.02-.2 1.41-.59l7.78-7.78 2.81-2.81c.8-.78.8-2.07 0-2.86zM5.41 20L4 18.59l7.72-7.72 1.47 1.35L5.41 20z\"/>\n",
              "  </svg>\n",
              "      </button>\n",
              "      \n",
              "  <style>\n",
              "    .colab-df-container {\n",
              "      display:flex;\n",
              "      flex-wrap:wrap;\n",
              "      gap: 12px;\n",
              "    }\n",
              "\n",
              "    .colab-df-convert {\n",
              "      background-color: #E8F0FE;\n",
              "      border: none;\n",
              "      border-radius: 50%;\n",
              "      cursor: pointer;\n",
              "      display: none;\n",
              "      fill: #1967D2;\n",
              "      height: 32px;\n",
              "      padding: 0 0 0 0;\n",
              "      width: 32px;\n",
              "    }\n",
              "\n",
              "    .colab-df-convert:hover {\n",
              "      background-color: #E2EBFA;\n",
              "      box-shadow: 0px 1px 2px rgba(60, 64, 67, 0.3), 0px 1px 3px 1px rgba(60, 64, 67, 0.15);\n",
              "      fill: #174EA6;\n",
              "    }\n",
              "\n",
              "    [theme=dark] .colab-df-convert {\n",
              "      background-color: #3B4455;\n",
              "      fill: #D2E3FC;\n",
              "    }\n",
              "\n",
              "    [theme=dark] .colab-df-convert:hover {\n",
              "      background-color: #434B5C;\n",
              "      box-shadow: 0px 1px 3px 1px rgba(0, 0, 0, 0.15);\n",
              "      filter: drop-shadow(0px 1px 2px rgba(0, 0, 0, 0.3));\n",
              "      fill: #FFFFFF;\n",
              "    }\n",
              "  </style>\n",
              "\n",
              "      <script>\n",
              "        const buttonEl =\n",
              "          document.querySelector('#df-2b7a4aa5-ac90-4852-a76a-7a55230949f3 button.colab-df-convert');\n",
              "        buttonEl.style.display =\n",
              "          google.colab.kernel.accessAllowed ? 'block' : 'none';\n",
              "\n",
              "        async function convertToInteractive(key) {\n",
              "          const element = document.querySelector('#df-2b7a4aa5-ac90-4852-a76a-7a55230949f3');\n",
              "          const dataTable =\n",
              "            await google.colab.kernel.invokeFunction('convertToInteractive',\n",
              "                                                     [key], {});\n",
              "          if (!dataTable) return;\n",
              "\n",
              "          const docLinkHtml = 'Like what you see? Visit the ' +\n",
              "            '<a target=\"_blank\" href=https://colab.research.google.com/notebooks/data_table.ipynb>data table notebook</a>'\n",
              "            + ' to learn more about interactive tables.';\n",
              "          element.innerHTML = '';\n",
              "          dataTable['output_type'] = 'display_data';\n",
              "          await google.colab.output.renderOutput(dataTable, element);\n",
              "          const docLink = document.createElement('div');\n",
              "          docLink.innerHTML = docLinkHtml;\n",
              "          element.appendChild(docLink);\n",
              "        }\n",
              "      </script>\n",
              "    </div>\n",
              "  </div>\n",
              "  "
            ]
          },
          "metadata": {},
          "execution_count": 9
        }
      ]
    },
    {
      "cell_type": "code",
      "source": [
        "# Question 19\n",
        "# Find out if a year entered by the user is a leap year.\n",
        "def leapyear():\n",
        "      \"\"\"This function helps the user know whether a year is leap\n",
        "      or not, for any year input by user.\"\"\"\n",
        "      year = int(input(f\"What year is it? Please enter year to find out: \\n\"))\n",
        "      if year % 4 == 0: \n",
        "        print(f\"Yay! It is a leap year\")\n",
        "      elif year % 4 == 0 and year %  100 != 0:\n",
        "        print(f\"Yay! It is a leap year\")\n",
        "      elif year % 100 == 0 and year % 400 == 0:\n",
        "        print(f\"Yay! It is a leap year\")\n",
        "      else:\n",
        "        print(f\"Nay! It isn't a leap year!\")  \n",
        "\n",
        "\n",
        "leapyear()               \n",
        "\n"
      ],
      "metadata": {
        "id": "b1GeokudiD4w",
        "colab": {
          "base_uri": "https://localhost:8080/"
        },
        "outputId": "5c083e0c-f72e-49e7-8d10-4bf2a73830a5"
      },
      "execution_count": null,
      "outputs": [
        {
          "output_type": "stream",
          "name": "stdout",
          "text": [
            "What year is it? Please enter year to find out: \n",
            "2024\n",
            "Yay! It is a leap year\n"
          ]
        }
      ]
    },
    {
      "cell_type": "code",
      "source": [
        "# another test case\n",
        "leapyear()"
      ],
      "metadata": {
        "id": "PgWm8oeIiZLz",
        "colab": {
          "base_uri": "https://localhost:8080/"
        },
        "outputId": "a474ccea-fe31-4e03-e854-15954417dcc9"
      },
      "execution_count": null,
      "outputs": [
        {
          "output_type": "stream",
          "name": "stdout",
          "text": [
            "What year is it? Please enter year to find out: \n",
            "2026\n",
            "Nay! It isn't a leap year!\n"
          ]
        }
      ]
    },
    {
      "cell_type": "code",
      "source": [
        "# Question 20\n",
        "# Sort the letters of any given string into a list \n",
        "# Where letters are sorted in the descending alphabetical order.\n",
        "\n",
        "def sort_string(str):\n",
        "    \"\"\"This function takes a given string and sorts the letters into\n",
        "    a list in reverse alphabetical order.\"\"\"\n",
        "\n",
        "    result = []\n",
        "    for char in str:\n",
        "        char = str[::-1]\n",
        "        result.append(char)\n",
        "        return result\n",
        "\n",
        "uch_str = \"abcdefgh\"\n",
        "sort_string(uch_str)\n"
      ],
      "metadata": {
        "id": "Ooc2QmwcievH",
        "colab": {
          "base_uri": "https://localhost:8080/"
        },
        "outputId": "f8b0195f-3bf1-4bee-bbec-eba12446eec7"
      },
      "execution_count": null,
      "outputs": [
        {
          "output_type": "execute_result",
          "data": {
            "text/plain": [
              "['hgfedcba']"
            ]
          },
          "metadata": {},
          "execution_count": 14
        }
      ]
    },
    {
      "cell_type": "code",
      "source": [
        "# Another test case\n",
        "uch_string = \"IJKLMNO\"\n",
        "sort_string(uch_string)"
      ],
      "metadata": {
        "id": "cxn_kqSTi4OF",
        "colab": {
          "base_uri": "https://localhost:8080/"
        },
        "outputId": "74cafca4-d358-48d6-c07a-c52b117cfc57"
      },
      "execution_count": null,
      "outputs": [
        {
          "output_type": "execute_result",
          "data": {
            "text/plain": [
              "['ONMLKJI']"
            ]
          },
          "metadata": {},
          "execution_count": 15
        }
      ]
    }
  ]
}
